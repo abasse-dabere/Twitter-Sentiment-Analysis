{
 "cells": [
  {
   "cell_type": "markdown",
   "metadata": {},
   "source": [
    "# Import"
   ]
  },
  {
   "cell_type": "code",
   "execution_count": 24,
   "metadata": {},
   "outputs": [
    {
     "name": "stderr",
     "output_type": "stream",
     "text": [
      "[nltk_data] Downloading package stopwords to\n",
      "[nltk_data]     /Users/dabereabasse/nltk_data...\n",
      "[nltk_data]   Package stopwords is already up-to-date!\n",
      "[nltk_data] Downloading package wordnet to\n",
      "[nltk_data]     /Users/dabereabasse/nltk_data...\n",
      "[nltk_data]   Package wordnet is already up-to-date!\n"
     ]
    }
   ],
   "source": [
    "import tensorflow as tf\n",
    "from tensorflow import keras\n",
    "from tensorflow.keras.models import Sequential\n",
    "from tensorflow.keras.layers import Embedding, LSTM, Dense, Dropout, SimpleRNN, GRU\n",
    "from tensorflow.keras.preprocessing.text import Tokenizer\n",
    "from tensorflow.keras.preprocessing.sequence import pad_sequences\n",
    "from tensorflow.keras.callbacks import EarlyStopping\n",
    "\n",
    "import numpy as np\n",
    "import pandas as pd\n",
    "import matplotlib.pyplot as plt\n",
    "import seaborn as sns\n",
    "\n",
    "# Pour le prétraitement des textes\n",
    "import re\n",
    "import string\n",
    "import nltk\n",
    "nltk.download('stopwords')\n",
    "from nltk.corpus import  stopwords\n",
    "from nltk.stem.porter import PorterStemmer\n",
    "nltk.download('wordnet')\n",
    "from nltk.stem import WordNetLemmatizer\n",
    "from nltk.tokenize import word_tokenize\n",
    "\n",
    "from transformers import BertTokenizer, TFBertModel\n",
    "\n",
    "# Pour la séparation des données en ensembles d'entraînement et de test\n",
    "from sklearn.model_selection import train_test_split\n",
    "\n",
    "from sklearn.metrics import confusion_matrix, classification_report, accuracy_score, f1_score, precision_score, recall_score\n",
    "\n",
    "import h5py\n"
   ]
  },
  {
   "cell_type": "markdown",
   "metadata": {},
   "source": [
    "# Data Collection"
   ]
  },
  {
   "cell_type": "code",
   "execution_count": 3,
   "metadata": {},
   "outputs": [
    {
     "name": "stdout",
     "output_type": "stream",
     "text": [
      "Train data shape: (31962, 2)\n"
     ]
    },
    {
     "data": {
      "text/html": [
       "<div>\n",
       "<style scoped>\n",
       "    .dataframe tbody tr th:only-of-type {\n",
       "        vertical-align: middle;\n",
       "    }\n",
       "\n",
       "    .dataframe tbody tr th {\n",
       "        vertical-align: top;\n",
       "    }\n",
       "\n",
       "    .dataframe thead th {\n",
       "        text-align: right;\n",
       "    }\n",
       "</style>\n",
       "<table border=\"1\" class=\"dataframe\">\n",
       "  <thead>\n",
       "    <tr style=\"text-align: right;\">\n",
       "      <th></th>\n",
       "      <th>label</th>\n",
       "      <th>tweet</th>\n",
       "    </tr>\n",
       "    <tr>\n",
       "      <th>id</th>\n",
       "      <th></th>\n",
       "      <th></th>\n",
       "    </tr>\n",
       "  </thead>\n",
       "  <tbody>\n",
       "    <tr>\n",
       "      <th>1</th>\n",
       "      <td>0</td>\n",
       "      <td>@user when a father is dysfunctional and is s...</td>\n",
       "    </tr>\n",
       "    <tr>\n",
       "      <th>2</th>\n",
       "      <td>0</td>\n",
       "      <td>@user @user thanks for #lyft credit i can't us...</td>\n",
       "    </tr>\n",
       "    <tr>\n",
       "      <th>3</th>\n",
       "      <td>0</td>\n",
       "      <td>bihday your majesty</td>\n",
       "    </tr>\n",
       "    <tr>\n",
       "      <th>4</th>\n",
       "      <td>0</td>\n",
       "      <td>#model   i love u take with u all the time in ...</td>\n",
       "    </tr>\n",
       "    <tr>\n",
       "      <th>5</th>\n",
       "      <td>0</td>\n",
       "      <td>factsguide: society now    #motivation</td>\n",
       "    </tr>\n",
       "  </tbody>\n",
       "</table>\n",
       "</div>"
      ],
      "text/plain": [
       "    label                                              tweet\n",
       "id                                                          \n",
       "1       0   @user when a father is dysfunctional and is s...\n",
       "2       0  @user @user thanks for #lyft credit i can't us...\n",
       "3       0                                bihday your majesty\n",
       "4       0  #model   i love u take with u all the time in ...\n",
       "5       0             factsguide: society now    #motivation"
      ]
     },
     "execution_count": 3,
     "metadata": {},
     "output_type": "execute_result"
    }
   ],
   "source": [
    "train_data = pd.read_csv('data/train.csv', index_col='id')\n",
    "print('Train data shape:', train_data.shape)\n",
    "train_data.head()"
   ]
  },
  {
   "cell_type": "code",
   "execution_count": 4,
   "metadata": {},
   "outputs": [],
   "source": [
    "sentences = train_data['tweet'].values\n",
    "labels = train_data['label'].values"
   ]
  },
  {
   "cell_type": "markdown",
   "metadata": {},
   "source": [
    "# Preprocessing"
   ]
  },
  {
   "cell_type": "markdown",
   "metadata": {},
   "source": [
    "- Lowercasing\n",
    "- Removal of URLs\n",
    "- Removal of HTML Tags\n",
    "- Removing Punctuation & Special Characters\n",
    "- Stop-Words Removal\n",
    "- Stemming or Lemmatization:<br>\n",
    "\n",
    "Stemming is preferred when the meaning of the word is not important for analysis. for example: Spam Detection <br>\n",
    "Lemmatization would be recommended when the meaning of the word is important for analysis. for example: Question Answer<br>\n",
    "\n",
    "Porter stemming algorithm is one of the most common stemming algorithms<br>\n",
    "which is basically designed to remove and replace well-known suffixes of English words.<br>\n",
    "\n",
    "WordNet is a word association database for English and a useful resource for English lemmatization\n",
    "\n",
    "- Tokenization<br>\n",
    "\n",
    "There are different methods and libraries available to perform tokenization.<br>\n",
    "NLTK, Gensim and Keras are some of the libraries that can be used to accomplish the task.<br>"
   ]
  },
  {
   "cell_type": "code",
   "execution_count": 5,
   "metadata": {},
   "outputs": [],
   "source": [
    "def preprocess_text(text):\n",
    "    text = text.lower() # Lowercasing\n",
    "    url_pattern = r'https?://\\S+|www\\.\\S+'\n",
    "    text = re.sub(url_pattern, '', text) # Remove URLs\n",
    "    html_pattern = r'<.*?>'\n",
    "    text = re.sub(html_pattern, '', text) # Remove HTML tags\n",
    "    punctuation_pattern = r'[^\\w\\s]'\n",
    "    text = re.sub(punctuation_pattern, '', text) # Remove punctuation\n",
    "    number_pattern = r'[0-9]'\n",
    "    text = re.sub(number_pattern, '', text) # Remove numbers\n",
    "    stop_words = set(stopwords.words('english'))\n",
    "    word_tokens = text.split()\n",
    "    text = ' '.join([word for word in word_tokens if word not in stop_words]) # Remove stopwords\n",
    "    lemmatizer = WordNetLemmatizer()\n",
    "    word_tokens = text.split()\n",
    "    text = ' '.join([lemmatizer.lemmatize(word) for word in word_tokens]) # Lemmatization\n",
    "    return text"
   ]
  },
  {
   "cell_type": "code",
   "execution_count": 6,
   "metadata": {},
   "outputs": [
    {
     "name": "stdout",
     "output_type": "stream",
     "text": [
      "original text:\n",
      "  â #ireland consumer price index (mom) climbed from previous 0.2% to 0.5% in may   #blog #silver #gold #forex\n",
      "preprocessed text:\n",
      " â ireland consumer price index mom climbed previous may blog silver gold forex\n"
     ]
    }
   ],
   "source": [
    "# example\n",
    "idx = 10\n",
    "print('original text:\\n', sentences[idx])\n",
    "print('preprocessed text:\\n', preprocess_text(sentences[idx]))"
   ]
  },
  {
   "cell_type": "code",
   "execution_count": 7,
   "metadata": {},
   "outputs": [],
   "source": [
    "preprocess_sentences = [preprocess_text(sentence) for sentence in sentences]"
   ]
  },
  {
   "cell_type": "markdown",
   "metadata": {},
   "source": [
    "### BERT Embeddings:\n",
    "\n",
    "* Pre-trained BERT Model: Start by choosing a pre-trained BERT model. You can use models from libraries like Hugging Face's Transformers, which provide a variety of pre-trained BERT models.\n",
    "\n",
    "* Tokenization: BERT requires its own specific tokenization. This means splitting the text into tokens (words or subwords) and converting these tokens into IDs that correspond to BERT’s vocabulary.\n",
    "\n",
    "* Embedding Extraction: For each tweet, feed the tokenized input into BERT to get the embedding vectors. BERT produces a vector for each token. For sequence-based tasks, you might want to use the embedding of the [CLS] token (a special token at the beginning of each sequence), or you might average or concatenate the embeddings of all tokens."
   ]
  },
  {
   "cell_type": "code",
   "execution_count": 8,
   "metadata": {},
   "outputs": [
    {
     "name": "stderr",
     "output_type": "stream",
     "text": [
      "Some weights of the PyTorch model were not used when initializing the TF 2.0 model TFBertModel: ['cls.seq_relationship.bias', 'cls.predictions.transform.LayerNorm.weight', 'cls.seq_relationship.weight', 'cls.predictions.transform.LayerNorm.bias', 'cls.predictions.transform.dense.weight', 'cls.predictions.transform.dense.bias', 'cls.predictions.bias']\n",
      "- This IS expected if you are initializing TFBertModel from a PyTorch model trained on another task or with another architecture (e.g. initializing a TFBertForSequenceClassification model from a BertForPreTraining model).\n",
      "- This IS NOT expected if you are initializing TFBertModel from a PyTorch model that you expect to be exactly identical (e.g. initializing a TFBertForSequenceClassification model from a BertForSequenceClassification model).\n",
      "All the weights of TFBertModel were initialized from the PyTorch model.\n",
      "If your task is similar to the task the model of the checkpoint was trained on, you can already use TFBertModel for predictions without further training.\n"
     ]
    }
   ],
   "source": [
    "# Initialize tokenizer and model\n",
    "bert_tokenizer = BertTokenizer.from_pretrained('bert-base-uncased')\n",
    "bert_model = TFBertModel.from_pretrained('bert-base-uncased')"
   ]
  },
  {
   "cell_type": "code",
   "execution_count": 9,
   "metadata": {},
   "outputs": [],
   "source": [
    "# Function to divide data into mini-batches\n",
    "def batchify(data, batch_size):\n",
    "    return [data[i:i + batch_size] for i in range(0, len(data), batch_size)]\n",
    "\n",
    "# Function to process all sentences in mini-batches\n",
    "def get_bert_embeddings(sentences, batch_size):\n",
    "    embeddings = []\n",
    "    max_length = max([len(bert_tokenizer.tokenize(sentence)) for sentence in sentences])\n",
    "    count = 0\n",
    "    for batch in batchify(sentences, batch_size):\n",
    "        count += len(batch)\n",
    "        print('{}/{}'.format(count, len(sentences)))\n",
    "        # Tokenize and pad batch\n",
    "        inputs = bert_tokenizer(batch, padding='max_length', truncation=True, max_length=max_length, return_tensors='tf')\n",
    "        \n",
    "        # Get embeddings\n",
    "        outputs = bert_model(inputs)\n",
    "        batch_embeddings = outputs.last_hidden_state\n",
    "        embeddings.append(batch_embeddings)\n",
    "    \n",
    "    # Concatenate embeddings from all batches\n",
    "    return tf.concat(embeddings, axis=0)"
   ]
  },
  {
   "cell_type": "code",
   "execution_count": 10,
   "metadata": {},
   "outputs": [
    {
     "data": {
      "text/plain": [
       "'\\n# Get BERT embeddings for preprocessed sentences\\n\\nbatch_size = 256\\nembeddings = get_bert_embeddings(preprocess_sentences, batch_size)\\n\\nprint(\\'embeddings shape:\\', embeddings.shape)\\n\\n# Save embeddings to file\\ntrain_embeddings = embeddings.numpy()\\n\\nwith h5py.File(\\'train_embeddings.h5\\', \\'w\\') as hf:\\n    hf.create_dataset(\"bert_embeddings\", data=train_embeddings)\\n'"
      ]
     },
     "execution_count": 10,
     "metadata": {},
     "output_type": "execute_result"
    }
   ],
   "source": [
    "\"\"\"\n",
    "# Get BERT embeddings for preprocessed sentences\n",
    "\n",
    "batch_size = 256\n",
    "embeddings = get_bert_embeddings(preprocess_sentences, batch_size)\n",
    "\n",
    "print('embeddings shape:', embeddings.shape)\n",
    "\n",
    "# Save embeddings to file\n",
    "train_embeddings = embeddings.numpy()\n",
    "\n",
    "with h5py.File('train_embeddings.h5', 'w') as hf:\n",
    "    hf.create_dataset(\"bert_embeddings\", data=train_embeddings)\n",
    "\"\"\""
   ]
  },
  {
   "cell_type": "code",
   "execution_count": 11,
   "metadata": {},
   "outputs": [
    {
     "name": "stdout",
     "output_type": "stream",
     "text": [
      "embeddings shape: (31962, 70, 768)\n"
     ]
    }
   ],
   "source": [
    "# Load embeddings from file\n",
    "with h5py.File('train_embeddings.h5', 'r') as hf:\n",
    "    train_embeddings = np.array(hf['bert_embeddings'])\n",
    "\n",
    "print('embeddings shape:', train_embeddings.shape)"
   ]
  },
  {
   "cell_type": "markdown",
   "metadata": {},
   "source": [
    "# Split the data"
   ]
  },
  {
   "cell_type": "code",
   "execution_count": 16,
   "metadata": {},
   "outputs": [
    {
     "name": "stdout",
     "output_type": "stream",
     "text": [
      "X_train shape: (25569, 70, 768)\n",
      "X_test shape: (6393, 70, 768)\n"
     ]
    }
   ],
   "source": [
    "# split data into training and testing sets\n",
    "X_train, X_test, y_train, y_test = train_test_split(train_embeddings, labels, test_size=0.2, random_state=42)\n",
    "\n",
    "print('X_train shape:', X_train.shape)\n",
    "print('X_test shape:', X_test.shape)"
   ]
  },
  {
   "cell_type": "code",
   "execution_count": 34,
   "metadata": {},
   "outputs": [
    {
     "name": "stdout",
     "output_type": "stream",
     "text": [
      "y_train:\n",
      "class 0: 23783\n",
      "class 1: 1786\n"
     ]
    }
   ],
   "source": [
    "# number of observations in each class\n",
    "print('y_train:')\n",
    "print('class 0:', np.sum(y_train == 0))\n",
    "print('class 1:', np.sum(y_train == 1))"
   ]
  },
  {
   "cell_type": "markdown",
   "metadata": {},
   "source": [
    "# RNN Model"
   ]
  },
  {
   "cell_type": "code",
   "execution_count": 20,
   "metadata": {},
   "outputs": [
    {
     "name": "stdout",
     "output_type": "stream",
     "text": [
      "Model: \"sequential_3\"\n",
      "_________________________________________________________________\n",
      " Layer (type)                Output Shape              Param #   \n",
      "=================================================================\n",
      " lstm_3 (LSTM)               (None, 64)                213248    \n",
      "                                                                 \n",
      " dense_3 (Dense)             (None, 1)                 65        \n",
      "                                                                 \n",
      "=================================================================\n",
      "Total params: 213313 (833.25 KB)\n",
      "Trainable params: 213313 (833.25 KB)\n",
      "Non-trainable params: 0 (0.00 Byte)\n",
      "_________________________________________________________________\n"
     ]
    }
   ],
   "source": [
    "# create the model\n",
    "rnn_model = Sequential([\n",
    "    LSTM(64, return_sequences=False, input_shape=(train_embeddings.shape[1], train_embeddings.shape[2])),\n",
    "    Dense(1, activation='sigmoid')\n",
    "])\n",
    "\n",
    "# compile the model\n",
    "rnn_model.compile(optimizer='adam', loss='binary_crossentropy', metrics=['accuracy'], class_weight={0: 1, 1: 2})\n",
    "\n",
    "# Model summary\n",
    "rnn_model.summary()"
   ]
  },
  {
   "cell_type": "code",
   "execution_count": 21,
   "metadata": {},
   "outputs": [
    {
     "name": "stdout",
     "output_type": "stream",
     "text": [
      "Epoch 1/10\n",
      "400/400 [==============================] - 82s 199ms/step - loss: 0.1682 - accuracy: 0.9425 - val_loss: 0.1467 - val_accuracy: 0.9468\n",
      "Epoch 2/10\n",
      "400/400 [==============================] - 40s 101ms/step - loss: 0.1381 - accuracy: 0.9509 - val_loss: 0.1423 - val_accuracy: 0.9468\n",
      "Epoch 3/10\n",
      "400/400 [==============================] - 61s 152ms/step - loss: 0.1259 - accuracy: 0.9552 - val_loss: 0.1359 - val_accuracy: 0.9496\n",
      "Epoch 4/10\n",
      "400/400 [==============================] - 66s 164ms/step - loss: 0.1128 - accuracy: 0.9594 - val_loss: 0.1329 - val_accuracy: 0.9531\n",
      "Epoch 5/10\n",
      "400/400 [==============================] - 64s 160ms/step - loss: 0.0993 - accuracy: 0.9653 - val_loss: 0.1277 - val_accuracy: 0.9532\n",
      "Epoch 6/10\n",
      "400/400 [==============================] - 37s 92ms/step - loss: 0.0863 - accuracy: 0.9688 - val_loss: 0.1352 - val_accuracy: 0.9542\n",
      "Epoch 7/10\n",
      "400/400 [==============================] - 46s 116ms/step - loss: 0.0739 - accuracy: 0.9737 - val_loss: 0.1350 - val_accuracy: 0.9562\n",
      "Epoch 8/10\n",
      "400/400 [==============================] - 65s 163ms/step - loss: 0.0582 - accuracy: 0.9797 - val_loss: 0.1422 - val_accuracy: 0.9570\n",
      "Epoch 9/10\n",
      "400/400 [==============================] - 60s 150ms/step - loss: 0.0484 - accuracy: 0.9828 - val_loss: 0.1567 - val_accuracy: 0.9514\n",
      "Epoch 10/10\n",
      "400/400 [==============================] - 58s 146ms/step - loss: 0.0336 - accuracy: 0.9886 - val_loss: 0.1890 - val_accuracy: 0.9585\n"
     ]
    },
    {
     "data": {
      "text/plain": [
       "<keras.src.callbacks.History at 0x29b59e0d0>"
      ]
     },
     "execution_count": 21,
     "metadata": {},
     "output_type": "execute_result"
    }
   ],
   "source": [
    "# Train the model\n",
    "history = rnn_model.fit(X_train, y_train, validation_data=(X_test, y_test), epochs=10, batch_size=64)"
   ]
  },
  {
   "cell_type": "code",
   "execution_count": 26,
   "metadata": {},
   "outputs": [
    {
     "name": "stdout",
     "output_type": "stream",
     "text": [
      "200/200 [==============================] - 3s 12ms/step\n"
     ]
    }
   ],
   "source": [
    "# predict on test data\n",
    "y_pred = rnn_model.predict(X_test)\n",
    "y_pred = (y_pred > 0.5).astype(int)"
   ]
  },
  {
   "cell_type": "code",
   "execution_count": 31,
   "metadata": {},
   "outputs": [
    {
     "data": {
      "image/png": "[encoded data removed]",
      "text/plain": [
       "<Figure size 800x500 with 2 Axes>"
      ]
     },
     "metadata": {},
     "output_type": "display_data"
    }
   ],
   "source": [
    "# confusion matrix\n",
    "cm = confusion_matrix(y_test, y_pred)\n",
    "plt.figure(figsize=(8, 5))\n",
    "sns.heatmap(cm, annot=True, fmt=\"d\")\n",
    "plt.title('Confusion Matrix')\n",
    "plt.xlabel('Predicted Label')\n",
    "plt.ylabel('True Label')\n",
    "plt.show()"
   ]
  },
  {
   "cell_type": "code",
   "execution_count": 32,
   "metadata": {},
   "outputs": [
    {
     "name": "stdout",
     "output_type": "stream",
     "text": [
      "              precision    recall  f1-score   support\n",
      "\n",
      "           0       0.97      0.99      0.98      5937\n",
      "           1       0.77      0.59      0.67       456\n",
      "\n",
      "    accuracy                           0.96      6393\n",
      "   macro avg       0.87      0.79      0.82      6393\n",
      "weighted avg       0.96      0.96      0.96      6393\n",
      "\n"
     ]
    }
   ],
   "source": [
    "# classification report\n",
    "print(classification_report(y_test, y_pred))"
   ]
  },
  {
   "cell_type": "code",
   "execution_count": null,
   "metadata": {},
   "outputs": [],
   "source": []
  }
 ],
 "metadata": {
  "kernelspec": {
   "display_name": "Py311",
   "language": "python",
   "name": "python3"
  },
  "language_info": {
   "codemirror_mode": {
    "name": "ipython",
    "version": 3
   },
   "file_extension": ".py",
   "mimetype": "text/x-python",
   "name": "python",
   "nbconvert_exporter": "python",
   "pygments_lexer": "ipython3",
   "version": "3.11.7"
  }
 },
 "nbformat": 4,
 "nbformat_minor": 2
}
